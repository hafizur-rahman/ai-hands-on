{
 "cells": [
  {
   "cell_type": "markdown",
   "metadata": {},
   "source": [
    "# http://people.duke.edu/~ccc14/sta-663-2017/\n",
    "\n",
    "# IO"
   ]
  },
  {
   "cell_type": "code",
   "execution_count": 1,
   "metadata": {},
   "outputs": [
    {
     "name": "stdout",
     "output_type": "stream",
     "text": [
      "Overwriting ./data/animals.txt\n"
     ]
    }
   ],
   "source": [
    "%%file ./data/animals.txt\n",
    "name|species|age|weight\n",
    "arun|cat|5|7.3\n",
    "bob|bird|2|1.5\n",
    "coco|cat|2|5.5\n",
    "dumbo|elephant|23|454\n",
    "elmo|dog|5|11\n",
    "fido|dog|3|24.5\n",
    "gumba|bird|2|2.7"
   ]
  },
  {
   "cell_type": "code",
   "execution_count": 2,
   "metadata": {},
   "outputs": [
    {
     "name": "stdout",
     "output_type": "stream",
     "text": [
      "arun|cat|5|7.3\n",
      "coco|cat|2|5.5\n"
     ]
    }
   ],
   "source": [
    "with open('./data/animals.txt') as f:\n",
    "    for line in f:\n",
    "        if 'cat' in line:\n",
    "            print(line.strip())"
   ]
  },
  {
   "cell_type": "code",
   "execution_count": 3,
   "metadata": {},
   "outputs": [
    {
     "name": "stdout",
     "output_type": "stream",
     "text": [
      "name|species|age|weight\n",
      "arun|cat|5|7.3\n",
      "bob|bird|2|1.5\n",
      "coco|cat|2|5.5\n",
      "dumbo|elephant|23|454\n",
      "elmo|dog|5|11\n",
      "fido|dog|3|24.5\n",
      "gumba|bird|2|2.7\n",
      "\n"
     ]
    }
   ],
   "source": [
    "with open('./data/animals.txt') as f:\n",
    "    text = f.read()\n",
    "print(text)"
   ]
  },
  {
   "cell_type": "code",
   "execution_count": 4,
   "metadata": {},
   "outputs": [
    {
     "data": {
      "text/html": [
       "<div>\n",
       "<style scoped>\n",
       "    .dataframe tbody tr th:only-of-type {\n",
       "        vertical-align: middle;\n",
       "    }\n",
       "\n",
       "    .dataframe tbody tr th {\n",
       "        vertical-align: top;\n",
       "    }\n",
       "\n",
       "    .dataframe thead th {\n",
       "        text-align: right;\n",
       "    }\n",
       "</style>\n",
       "<table border=\"1\" class=\"dataframe\">\n",
       "  <thead>\n",
       "    <tr style=\"text-align: right;\">\n",
       "      <th></th>\n",
       "      <th>name</th>\n",
       "      <th>species</th>\n",
       "      <th>age</th>\n",
       "      <th>weight</th>\n",
       "    </tr>\n",
       "  </thead>\n",
       "  <tbody>\n",
       "    <tr>\n",
       "      <td>0</td>\n",
       "      <td>arun</td>\n",
       "      <td>cat</td>\n",
       "      <td>5</td>\n",
       "      <td>7.3</td>\n",
       "    </tr>\n",
       "    <tr>\n",
       "      <td>1</td>\n",
       "      <td>bob</td>\n",
       "      <td>bird</td>\n",
       "      <td>2</td>\n",
       "      <td>1.5</td>\n",
       "    </tr>\n",
       "    <tr>\n",
       "      <td>2</td>\n",
       "      <td>coco</td>\n",
       "      <td>cat</td>\n",
       "      <td>2</td>\n",
       "      <td>5.5</td>\n",
       "    </tr>\n",
       "    <tr>\n",
       "      <td>3</td>\n",
       "      <td>dumbo</td>\n",
       "      <td>elephant</td>\n",
       "      <td>23</td>\n",
       "      <td>454.0</td>\n",
       "    </tr>\n",
       "    <tr>\n",
       "      <td>4</td>\n",
       "      <td>elmo</td>\n",
       "      <td>dog</td>\n",
       "      <td>5</td>\n",
       "      <td>11.0</td>\n",
       "    </tr>\n",
       "    <tr>\n",
       "      <td>5</td>\n",
       "      <td>fido</td>\n",
       "      <td>dog</td>\n",
       "      <td>3</td>\n",
       "      <td>24.5</td>\n",
       "    </tr>\n",
       "    <tr>\n",
       "      <td>6</td>\n",
       "      <td>gumba</td>\n",
       "      <td>bird</td>\n",
       "      <td>2</td>\n",
       "      <td>2.7</td>\n",
       "    </tr>\n",
       "  </tbody>\n",
       "</table>\n",
       "</div>"
      ],
      "text/plain": [
       "    name   species  age  weight\n",
       "0   arun       cat    5     7.3\n",
       "1    bob      bird    2     1.5\n",
       "2   coco       cat    2     5.5\n",
       "3  dumbo  elephant   23   454.0\n",
       "4   elmo       dog    5    11.0\n",
       "5   fido       dog    3    24.5\n",
       "6  gumba      bird    2     2.7"
      ]
     },
     "execution_count": 4,
     "metadata": {},
     "output_type": "execute_result"
    }
   ],
   "source": [
    "import pandas as pd\n",
    "\n",
    "df = pd.read_table('./data/animals.txt', sep='|')\n",
    "df"
   ]
  },
  {
   "cell_type": "markdown",
   "metadata": {},
   "source": [
    "## Note that pandas has intelligently guessed the appropriate type of each column"
   ]
  },
  {
   "cell_type": "code",
   "execution_count": 5,
   "metadata": {},
   "outputs": [
    {
     "data": {
      "text/plain": [
       "name        object\n",
       "species     object\n",
       "age          int64\n",
       "weight     float64\n",
       "dtype: object"
      ]
     },
     "execution_count": 5,
     "metadata": {},
     "output_type": "execute_result"
    }
   ],
   "source": [
    "df.dtypes"
   ]
  },
  {
   "cell_type": "markdown",
   "metadata": {},
   "source": [
    "## Saving a text file"
   ]
  },
  {
   "cell_type": "code",
   "execution_count": 6,
   "metadata": {},
   "outputs": [],
   "source": [
    "s = \"\"\"\n",
    "name|species|age|weight\n",
    "arun|cat|5|7.3\n",
    "bob|bird|2|1.5\n",
    "coco|cat|2|5.5\n",
    "dumbo|elephant|23|454\n",
    "elmo|dog|5|11\n",
    "fido|dog|3|24.5\n",
    "gumba|bird|2|2.7\n",
    "\"\"\""
   ]
  },
  {
   "cell_type": "code",
   "execution_count": 7,
   "metadata": {},
   "outputs": [],
   "source": [
    "with open('./data/animals2.txt', 'w') as f:\n",
    "    f.write(s)"
   ]
  },
  {
   "cell_type": "code",
   "execution_count": 8,
   "metadata": {},
   "outputs": [
    {
     "name": "stdout",
     "output_type": "stream",
     "text": [
      "\n",
      "name|species|age|weight\n",
      "arun|cat|5|7.3\n",
      "bob|bird|2|1.5\n",
      "coco|cat|2|5.5\n",
      "dumbo|elephant|23|454\n",
      "elmo|dog|5|11\n",
      "fido|dog|3|24.5\n",
      "gumba|bird|2|2.7\n"
     ]
    }
   ],
   "source": [
    "!cat './data/animals2.txt'"
   ]
  },
  {
   "cell_type": "markdown",
   "metadata": {},
   "source": [
    "## Web resources"
   ]
  },
  {
   "cell_type": "code",
   "execution_count": 9,
   "metadata": {},
   "outputs": [],
   "source": [
    "import requests"
   ]
  },
  {
   "cell_type": "code",
   "execution_count": 10,
   "metadata": {},
   "outputs": [],
   "source": [
    "# Only download once - Project Gutenburg will block you if you do this repeatedly\n",
    "\n",
    "try:\n",
    "    with open('./data/Ulysses.txt') as f:\n",
    "        text = f.read()\n",
    "except IOError:\n",
    "    url = 'http://www.gutenberg.org/cache/epub/4300/pg4300.txt'\n",
    "    resp = requests.get(url)\n",
    "    text = resp.text\n",
    "    \n",
    "    with open('./data/Ulysses.txt', 'w') as f:\n",
    "        f.write(text)"
   ]
  },
  {
   "cell_type": "code",
   "execution_count": 11,
   "metadata": {},
   "outputs": [
    {
     "name": "stdout",
     "output_type": "stream",
     "text": [
      "﻿The Project Gutenberg EBook of Ulysses, by James Joyce\n",
      "\n",
      "This eBook is for the use of anyone anywhere at no cost and with almost\n",
      "no restrictions whatsoever. You may copy it, give it away or re-use\n",
      "it under the terms of the Project Gutenberg License included with this\n",
      "eBook or online at www.gutenberg.org\n",
      "\n",
      "\n",
      "Title: Ulysses\n",
      "\n",
      "Author: James Joyce\n",
      "\n",
      "Release Date: August 1, 2008 [EBook #4300]\n",
      "Last Updated: January 29, 2016\n",
      "\n",
      "Language: English\n",
      "\n",
      "\n",
      "*** START OF THIS PROJECT GUTENBERG EBOOK ULYSSES ***\n",
      "\n",
      "\n",
      "\n",
      "Produced by Col Choat, and David Widger\n",
      "\n",
      "\n",
      "\n",
      "ULYSSES\n",
      "\n",
      "by\n"
     ]
    }
   ],
   "source": [
    "print(text[:550])"
   ]
  },
  {
   "cell_type": "markdown",
   "metadata": {},
   "source": [
    "## Getting a table from a URL"
   ]
  },
  {
   "cell_type": "code",
   "execution_count": 14,
   "metadata": {},
   "outputs": [
    {
     "data": {
      "text/html": [
       "<div>\n",
       "<style scoped>\n",
       "    .dataframe tbody tr th:only-of-type {\n",
       "        vertical-align: middle;\n",
       "    }\n",
       "\n",
       "    .dataframe tbody tr th {\n",
       "        vertical-align: top;\n",
       "    }\n",
       "\n",
       "    .dataframe thead th {\n",
       "        text-align: right;\n",
       "    }\n",
       "</style>\n",
       "<table border=\"1\" class=\"dataframe\">\n",
       "  <thead>\n",
       "    <tr style=\"text-align: right;\">\n",
       "      <th></th>\n",
       "      <th>Fiscal year is October-September. All values USD millions.</th>\n",
       "      <th>2014</th>\n",
       "      <th>2015</th>\n",
       "      <th>2016</th>\n",
       "      <th>2017</th>\n",
       "      <th>2018</th>\n",
       "      <th>5-year trend</th>\n",
       "    </tr>\n",
       "  </thead>\n",
       "  <tbody>\n",
       "    <tr>\n",
       "      <td>0</td>\n",
       "      <td>Sales/Revenue</td>\n",
       "      <td>183.24B</td>\n",
       "      <td>231.28B</td>\n",
       "      <td>214.23B</td>\n",
       "      <td>228.57B</td>\n",
       "      <td>265.81B</td>\n",
       "      <td>NaN</td>\n",
       "    </tr>\n",
       "    <tr>\n",
       "      <td>1</td>\n",
       "      <td>Sales Growth</td>\n",
       "      <td>-</td>\n",
       "      <td>26.22%</td>\n",
       "      <td>-7.37%</td>\n",
       "      <td>6.70%</td>\n",
       "      <td>16.29%</td>\n",
       "      <td>NaN</td>\n",
       "    </tr>\n",
       "    <tr>\n",
       "      <td>2</td>\n",
       "      <td>Cost of Goods Sold (COGS) incl. D&amp;A</td>\n",
       "      <td>112.55B</td>\n",
       "      <td>142.26B</td>\n",
       "      <td>131.51B</td>\n",
       "      <td>141.7B</td>\n",
       "      <td>163.83B</td>\n",
       "      <td>NaN</td>\n",
       "    </tr>\n",
       "    <tr>\n",
       "      <td>3</td>\n",
       "      <td>COGS excluding D&amp;A</td>\n",
       "      <td>104.55B</td>\n",
       "      <td>131.76B</td>\n",
       "      <td>121.71B</td>\n",
       "      <td>132.3B</td>\n",
       "      <td>154.53B</td>\n",
       "      <td>NaN</td>\n",
       "    </tr>\n",
       "    <tr>\n",
       "      <td>4</td>\n",
       "      <td>Depreciation &amp; Amortization Expense</td>\n",
       "      <td>8B</td>\n",
       "      <td>10.5B</td>\n",
       "      <td>9.8B</td>\n",
       "      <td>9.4B</td>\n",
       "      <td>9.3B</td>\n",
       "      <td>NaN</td>\n",
       "    </tr>\n",
       "    <tr>\n",
       "      <td>5</td>\n",
       "      <td>Depreciation</td>\n",
       "      <td>6.9B</td>\n",
       "      <td>9.2B</td>\n",
       "      <td>8.3B</td>\n",
       "      <td>8.2B</td>\n",
       "      <td>9.3B</td>\n",
       "      <td>NaN</td>\n",
       "    </tr>\n",
       "    <tr>\n",
       "      <td>6</td>\n",
       "      <td>Amortization of Intangibles</td>\n",
       "      <td>1.1B</td>\n",
       "      <td>1.3B</td>\n",
       "      <td>1.5B</td>\n",
       "      <td>1.2B</td>\n",
       "      <td>-</td>\n",
       "      <td>NaN</td>\n",
       "    </tr>\n",
       "    <tr>\n",
       "      <td>7</td>\n",
       "      <td>COGS Growth</td>\n",
       "      <td>-</td>\n",
       "      <td>26.39%</td>\n",
       "      <td>-7.56%</td>\n",
       "      <td>7.75%</td>\n",
       "      <td>15.61%</td>\n",
       "      <td>NaN</td>\n",
       "    </tr>\n",
       "    <tr>\n",
       "      <td>8</td>\n",
       "      <td>Gross Income</td>\n",
       "      <td>70.69B</td>\n",
       "      <td>89.03B</td>\n",
       "      <td>82.72B</td>\n",
       "      <td>86.87B</td>\n",
       "      <td>101.98B</td>\n",
       "      <td>NaN</td>\n",
       "    </tr>\n",
       "    <tr>\n",
       "      <td>9</td>\n",
       "      <td>Gross Income Growth</td>\n",
       "      <td>-</td>\n",
       "      <td>25.94%</td>\n",
       "      <td>-7.08%</td>\n",
       "      <td>5.02%</td>\n",
       "      <td>17.40%</td>\n",
       "      <td>NaN</td>\n",
       "    </tr>\n",
       "    <tr>\n",
       "      <td>10</td>\n",
       "      <td>Gross Profit Margin</td>\n",
       "      <td>-</td>\n",
       "      <td>-</td>\n",
       "      <td>-</td>\n",
       "      <td>-</td>\n",
       "      <td>38.37%</td>\n",
       "      <td>NaN</td>\n",
       "    </tr>\n",
       "  </tbody>\n",
       "</table>\n",
       "</div>"
      ],
      "text/plain": [
       "   Fiscal year is October-September. All values USD millions.     2014  \\\n",
       "0                                       Sales/Revenue          183.24B   \n",
       "1                                        Sales Growth                -   \n",
       "2                 Cost of Goods Sold (COGS) incl. D&A          112.55B   \n",
       "3                                  COGS excluding D&A          104.55B   \n",
       "4                 Depreciation & Amortization Expense               8B   \n",
       "5                                        Depreciation             6.9B   \n",
       "6                         Amortization of Intangibles             1.1B   \n",
       "7                                         COGS Growth                -   \n",
       "8                                        Gross Income           70.69B   \n",
       "9                                 Gross Income Growth                -   \n",
       "10                                Gross Profit Margin                -   \n",
       "\n",
       "       2015     2016     2017     2018  5-year trend  \n",
       "0   231.28B  214.23B  228.57B  265.81B           NaN  \n",
       "1    26.22%   -7.37%    6.70%   16.29%           NaN  \n",
       "2   142.26B  131.51B   141.7B  163.83B           NaN  \n",
       "3   131.76B  121.71B   132.3B  154.53B           NaN  \n",
       "4     10.5B     9.8B     9.4B     9.3B           NaN  \n",
       "5      9.2B     8.3B     8.2B     9.3B           NaN  \n",
       "6      1.3B     1.5B     1.2B        -           NaN  \n",
       "7    26.39%   -7.56%    7.75%   15.61%           NaN  \n",
       "8    89.03B   82.72B   86.87B  101.98B           NaN  \n",
       "9    25.94%   -7.08%    5.02%   17.40%           NaN  \n",
       "10        -        -        -   38.37%           NaN  "
      ]
     },
     "execution_count": 14,
     "metadata": {},
     "output_type": "execute_result"
    }
   ],
   "source": [
    "from urllib import request\n",
    "import ssl\n",
    "\n",
    "url = 'http://www.marketwatch.com/investing/stock/aapl/financials'\n",
    "context = ssl._create_unverified_context()\n",
    "response = request.urlopen(url, context=context)\n",
    "html = response.read()\n",
    "\n",
    "pd.read_html(html)[0]"
   ]
  },
  {
   "cell_type": "code",
   "execution_count": 16,
   "metadata": {},
   "outputs": [],
   "source": [
    "import json\n",
    "\n",
    "with open('./data/north_carolina_bicycle_crash_data_heatmap_.json') as f:\n",
    "    data = json.load(f)"
   ]
  },
  {
   "cell_type": "code",
   "execution_count": 17,
   "metadata": {},
   "outputs": [
    {
     "data": {
      "text/plain": [
       "5716"
      ]
     },
     "execution_count": 17,
     "metadata": {},
     "output_type": "execute_result"
    }
   ],
   "source": [
    "len(data)"
   ]
  },
  {
   "cell_type": "code",
   "execution_count": 18,
   "metadata": {},
   "outputs": [
    {
     "data": {
      "text/plain": [
       "{'datasetid': 'north_carolina_bicycle_crash_data_heatmap_',\n",
       " 'recordid': '696348a220ddd21dfcbd30cdc744147464ffd639',\n",
       " 'fields': {'drvr_age': 66,\n",
       "  'rd_defects': 'None',\n",
       "  'crsh_sevri': 'C: Possible Injury',\n",
       "  'objectid': 19,\n",
       "  'crash_ty_1': 353311,\n",
       "  'ambulancer': 'No',\n",
       "  'excsspdind': 'No',\n",
       "  'county': 'Durham',\n",
       "  'speed_limi': '20 - 25  MPH',\n",
       "  'rural_urba': 'Urban',\n",
       "  'bike_injur': 'C: Possible Injury',\n",
       "  'bike_race': 'Black',\n",
       "  'drvr_vehty': 'Pickup',\n",
       "  'crash_type': 'Bicyclist Ride Out - Residential Driveway',\n",
       "  'bike_dir': 'Not Applicable',\n",
       "  'city': 'Durham',\n",
       "  'workzone_i': 'No',\n",
       "  'rd_class': 'Local Street',\n",
       "  'rd_config': 'Two-Way, Not Divided',\n",
       "  'num_lanes': '2 lanes',\n",
       "  'rd_feature': 'No Special Feature',\n",
       "  'bike_age': 6,\n",
       "  'location': [36.002743, -78.8785],\n",
       "  'drvr_injur': 'O: No Injury',\n",
       "  'crash_loc': 'Non-Intersection',\n",
       "  'rd_charact': 'Straight - Level',\n",
       "  'drvr_alc_d': 'No',\n",
       "  'drvrage_gr': '60-69',\n",
       "  'i_fid': 18,\n",
       "  'light_cond': 'Daylight',\n",
       "  'drvr_sex': 'Male',\n",
       "  'crashday': '01-01-06',\n",
       "  'crash_time': '0001-01-01T08:21:58-04:56',\n",
       "  'crash_grp': 'Bicyclist Failed to Yield - Midblock',\n",
       "  'bike_alc_d': 'No',\n",
       "  'crash_hour': 13,\n",
       "  'drvr_race': 'Black',\n",
       "  'crash_date': '2007-01-06',\n",
       "  'rd_conditi': 'Dry',\n",
       "  'developmen': 'Residential',\n",
       "  'bike_pos': 'Driveway / Alley',\n",
       "  'bike_sex': 'Female',\n",
       "  'traff_cntr': 'No Control Present',\n",
       "  'region': 'Piedmont',\n",
       "  'locality': 'Mixed (30% To 70% Developed)',\n",
       "  'crash_year': '2007',\n",
       "  'weather': 'Clear',\n",
       "  'num_units': 2,\n",
       "  'rd_surface': 'Smooth Asphalt',\n",
       "  'hit_run': 'No',\n",
       "  'drvr_estsp': '11-15 mph',\n",
       "  'crashalcoh': 'No'},\n",
       " 'geometry': {'type': 'Point', 'coordinates': [-78.8785, 36.002743]},\n",
       " 'record_timestamp': '2015-04-21T05:55:44-04:00'}"
      ]
     },
     "execution_count": 18,
     "metadata": {},
     "output_type": "execute_result"
    }
   ],
   "source": [
    "data[0]"
   ]
  },
  {
   "cell_type": "markdown",
   "metadata": {},
   "source": [
    "# Flatten the nested dictionaries recursively"
   ]
  },
  {
   "cell_type": "code",
   "execution_count": 20,
   "metadata": {},
   "outputs": [],
   "source": [
    "def flatten(d, parent='', sep='_'):\n",
    "    \"\"\"This takes a nested dictionary, and returns a flat dictinoary.\n",
    "\n",
    "    A new prefix can optionally be added to the keys by specifying parent.\n",
    "    Keys in the flat dictionary are created by joining parent and child keys with sep.\n",
    "    \"\"\"\n",
    "    items = []\n",
    "    for k, v in d.items():\n",
    "        key = sep.join([parent, k]) if parent else k\n",
    "        try:\n",
    "            items.extend(flatten(v, key, sep=sep).items())\n",
    "        except AttributeError:\n",
    "            items.append((key, v))\n",
    "    return dict(items)"
   ]
  },
  {
   "cell_type": "code",
   "execution_count": 22,
   "metadata": {},
   "outputs": [
    {
     "data": {
      "text/plain": [
       "{'datasetid': 'north_carolina_bicycle_crash_data_heatmap_',\n",
       " 'recordid': '696348a220ddd21dfcbd30cdc744147464ffd639',\n",
       " 'fields_drvr_age': 66,\n",
       " 'fields_rd_defects': 'None',\n",
       " 'fields_crsh_sevri': 'C: Possible Injury',\n",
       " 'fields_objectid': 19,\n",
       " 'fields_crash_ty_1': 353311,\n",
       " 'fields_ambulancer': 'No',\n",
       " 'fields_excsspdind': 'No',\n",
       " 'fields_county': 'Durham',\n",
       " 'fields_speed_limi': '20 - 25  MPH',\n",
       " 'fields_rural_urba': 'Urban',\n",
       " 'fields_bike_injur': 'C: Possible Injury',\n",
       " 'fields_bike_race': 'Black',\n",
       " 'fields_drvr_vehty': 'Pickup',\n",
       " 'fields_crash_type': 'Bicyclist Ride Out - Residential Driveway',\n",
       " 'fields_bike_dir': 'Not Applicable',\n",
       " 'fields_city': 'Durham',\n",
       " 'fields_workzone_i': 'No',\n",
       " 'fields_rd_class': 'Local Street',\n",
       " 'fields_rd_config': 'Two-Way, Not Divided',\n",
       " 'fields_num_lanes': '2 lanes',\n",
       " 'fields_rd_feature': 'No Special Feature',\n",
       " 'fields_bike_age': 6,\n",
       " 'fields_location': [36.002743, -78.8785],\n",
       " 'fields_drvr_injur': 'O: No Injury',\n",
       " 'fields_crash_loc': 'Non-Intersection',\n",
       " 'fields_rd_charact': 'Straight - Level',\n",
       " 'fields_drvr_alc_d': 'No',\n",
       " 'fields_drvrage_gr': '60-69',\n",
       " 'fields_i_fid': 18,\n",
       " 'fields_light_cond': 'Daylight',\n",
       " 'fields_drvr_sex': 'Male',\n",
       " 'fields_crashday': '01-01-06',\n",
       " 'fields_crash_time': '0001-01-01T08:21:58-04:56',\n",
       " 'fields_crash_grp': 'Bicyclist Failed to Yield - Midblock',\n",
       " 'fields_bike_alc_d': 'No',\n",
       " 'fields_crash_hour': 13,\n",
       " 'fields_drvr_race': 'Black',\n",
       " 'fields_crash_date': '2007-01-06',\n",
       " 'fields_rd_conditi': 'Dry',\n",
       " 'fields_developmen': 'Residential',\n",
       " 'fields_bike_pos': 'Driveway / Alley',\n",
       " 'fields_bike_sex': 'Female',\n",
       " 'fields_traff_cntr': 'No Control Present',\n",
       " 'fields_region': 'Piedmont',\n",
       " 'fields_locality': 'Mixed (30% To 70% Developed)',\n",
       " 'fields_crash_year': '2007',\n",
       " 'fields_weather': 'Clear',\n",
       " 'fields_num_units': 2,\n",
       " 'fields_rd_surface': 'Smooth Asphalt',\n",
       " 'fields_hit_run': 'No',\n",
       " 'fields_drvr_estsp': '11-15 mph',\n",
       " 'fields_crashalcoh': 'No',\n",
       " 'geometry_type': 'Point',\n",
       " 'geometry_coordinates': [-78.8785, 36.002743],\n",
       " 'record_timestamp': '2015-04-21T05:55:44-04:00'}"
      ]
     },
     "execution_count": 22,
     "metadata": {},
     "output_type": "execute_result"
    }
   ],
   "source": [
    "flatten(data[0])"
   ]
  },
  {
   "cell_type": "markdown",
   "metadata": {},
   "source": [
    "## Now we can easily put into a DataFrfame for analysis"
   ]
  },
  {
   "cell_type": "code",
   "execution_count": 24,
   "metadata": {},
   "outputs": [
    {
     "data": {
      "text/html": [
       "<div>\n",
       "<style scoped>\n",
       "    .dataframe tbody tr th:only-of-type {\n",
       "        vertical-align: middle;\n",
       "    }\n",
       "\n",
       "    .dataframe tbody tr th {\n",
       "        vertical-align: top;\n",
       "    }\n",
       "\n",
       "    .dataframe thead th {\n",
       "        text-align: right;\n",
       "    }\n",
       "</style>\n",
       "<table border=\"1\" class=\"dataframe\">\n",
       "  <thead>\n",
       "    <tr style=\"text-align: right;\">\n",
       "      <th></th>\n",
       "      <th>datasetid</th>\n",
       "      <th>recordid</th>\n",
       "      <th>fields_drvr_age</th>\n",
       "      <th>fields_rd_defects</th>\n",
       "      <th>fields_crsh_sevri</th>\n",
       "      <th>fields_objectid</th>\n",
       "      <th>fields_crash_ty_1</th>\n",
       "      <th>fields_ambulancer</th>\n",
       "      <th>fields_excsspdind</th>\n",
       "      <th>fields_county</th>\n",
       "      <th>...</th>\n",
       "      <th>fields_num_units</th>\n",
       "      <th>fields_rd_surface</th>\n",
       "      <th>fields_hit_run</th>\n",
       "      <th>fields_drvr_estsp</th>\n",
       "      <th>fields_crashalcoh</th>\n",
       "      <th>geometry_type</th>\n",
       "      <th>geometry_coordinates</th>\n",
       "      <th>record_timestamp</th>\n",
       "      <th>fields_bikeage_gr</th>\n",
       "      <th>fields_crash_mont</th>\n",
       "    </tr>\n",
       "  </thead>\n",
       "  <tbody>\n",
       "    <tr>\n",
       "      <td>0</td>\n",
       "      <td>north_carolina_bicycle_crash_data_heatmap_</td>\n",
       "      <td>696348a220ddd21dfcbd30cdc744147464ffd639</td>\n",
       "      <td>66.0</td>\n",
       "      <td>None</td>\n",
       "      <td>C: Possible Injury</td>\n",
       "      <td>19</td>\n",
       "      <td>353311.0</td>\n",
       "      <td>No</td>\n",
       "      <td>No</td>\n",
       "      <td>Durham</td>\n",
       "      <td>...</td>\n",
       "      <td>2</td>\n",
       "      <td>Smooth Asphalt</td>\n",
       "      <td>No</td>\n",
       "      <td>11-15 mph</td>\n",
       "      <td>No</td>\n",
       "      <td>Point</td>\n",
       "      <td>[-78.8785, 36.002743]</td>\n",
       "      <td>2015-04-21T05:55:44-04:00</td>\n",
       "      <td>NaN</td>\n",
       "      <td>NaN</td>\n",
       "    </tr>\n",
       "    <tr>\n",
       "      <td>1</td>\n",
       "      <td>north_carolina_bicycle_crash_data_heatmap_</td>\n",
       "      <td>9e89f7103e3a849d289b1015e80c3d3f7a74d058</td>\n",
       "      <td>34.0</td>\n",
       "      <td>None</td>\n",
       "      <td>C: Possible Injury</td>\n",
       "      <td>30</td>\n",
       "      <td>211180.0</td>\n",
       "      <td>Yes</td>\n",
       "      <td>No</td>\n",
       "      <td>Pitt</td>\n",
       "      <td>...</td>\n",
       "      <td>2</td>\n",
       "      <td>Smooth Asphalt</td>\n",
       "      <td>No</td>\n",
       "      <td>0-5 mph</td>\n",
       "      <td>No</td>\n",
       "      <td>Point</td>\n",
       "      <td>[-77.39265, 35.612984]</td>\n",
       "      <td>2015-04-21T05:55:44-04:00</td>\n",
       "      <td>50-59</td>\n",
       "      <td>NaN</td>\n",
       "    </tr>\n",
       "    <tr>\n",
       "      <td>2</td>\n",
       "      <td>north_carolina_bicycle_crash_data_heatmap_</td>\n",
       "      <td>ed2998fdddd54956266ac4588b5e3e734ba6a419</td>\n",
       "      <td>52.0</td>\n",
       "      <td>None</td>\n",
       "      <td>O: No Injury</td>\n",
       "      <td>34</td>\n",
       "      <td>111144.0</td>\n",
       "      <td>No</td>\n",
       "      <td>No</td>\n",
       "      <td>Pitt</td>\n",
       "      <td>...</td>\n",
       "      <td>2</td>\n",
       "      <td>Smooth Asphalt</td>\n",
       "      <td>No</td>\n",
       "      <td>21-25 mph</td>\n",
       "      <td>No</td>\n",
       "      <td>Point</td>\n",
       "      <td>[-77.59074, 35.595676]</td>\n",
       "      <td>2015-04-21T05:55:44-04:00</td>\n",
       "      <td>NaN</td>\n",
       "      <td>NaN</td>\n",
       "    </tr>\n",
       "    <tr>\n",
       "      <td>3</td>\n",
       "      <td>north_carolina_bicycle_crash_data_heatmap_</td>\n",
       "      <td>77d8284533f319b61986fd4449ad5ea60b4f663a</td>\n",
       "      <td>33.0</td>\n",
       "      <td>None</td>\n",
       "      <td>B: Evident Injury</td>\n",
       "      <td>36</td>\n",
       "      <td>119139.0</td>\n",
       "      <td>Yes</td>\n",
       "      <td>No</td>\n",
       "      <td>Mecklenburg</td>\n",
       "      <td>...</td>\n",
       "      <td>3</td>\n",
       "      <td>Smooth Asphalt</td>\n",
       "      <td>No</td>\n",
       "      <td>46-50 mph</td>\n",
       "      <td>No</td>\n",
       "      <td>Point</td>\n",
       "      <td>[-80.7728, 35.076767]</td>\n",
       "      <td>2015-04-21T05:55:44-04:00</td>\n",
       "      <td>16-19</td>\n",
       "      <td>NaN</td>\n",
       "    </tr>\n",
       "    <tr>\n",
       "      <td>4</td>\n",
       "      <td>north_carolina_bicycle_crash_data_heatmap_</td>\n",
       "      <td>5accb69983a9ee89d7a184b1e4601b6baac7241a</td>\n",
       "      <td>NaN</td>\n",
       "      <td>None</td>\n",
       "      <td>O: No Injury</td>\n",
       "      <td>50</td>\n",
       "      <td>112114.0</td>\n",
       "      <td>No</td>\n",
       "      <td>No</td>\n",
       "      <td>Mecklenburg</td>\n",
       "      <td>...</td>\n",
       "      <td>2</td>\n",
       "      <td>Smooth Asphalt</td>\n",
       "      <td>Yes</td>\n",
       "      <td>16-20 mph</td>\n",
       "      <td>No</td>\n",
       "      <td>Point</td>\n",
       "      <td>[-80.75713, 35.19999]</td>\n",
       "      <td>2015-04-21T05:55:44-04:00</td>\n",
       "      <td>NaN</td>\n",
       "      <td>NaN</td>\n",
       "    </tr>\n",
       "  </tbody>\n",
       "</table>\n",
       "<p>5 rows × 59 columns</p>\n",
       "</div>"
      ],
      "text/plain": [
       "                                    datasetid  \\\n",
       "0  north_carolina_bicycle_crash_data_heatmap_   \n",
       "1  north_carolina_bicycle_crash_data_heatmap_   \n",
       "2  north_carolina_bicycle_crash_data_heatmap_   \n",
       "3  north_carolina_bicycle_crash_data_heatmap_   \n",
       "4  north_carolina_bicycle_crash_data_heatmap_   \n",
       "\n",
       "                                   recordid  fields_drvr_age  \\\n",
       "0  696348a220ddd21dfcbd30cdc744147464ffd639             66.0   \n",
       "1  9e89f7103e3a849d289b1015e80c3d3f7a74d058             34.0   \n",
       "2  ed2998fdddd54956266ac4588b5e3e734ba6a419             52.0   \n",
       "3  77d8284533f319b61986fd4449ad5ea60b4f663a             33.0   \n",
       "4  5accb69983a9ee89d7a184b1e4601b6baac7241a              NaN   \n",
       "\n",
       "  fields_rd_defects   fields_crsh_sevri  fields_objectid  fields_crash_ty_1  \\\n",
       "0              None  C: Possible Injury               19           353311.0   \n",
       "1              None  C: Possible Injury               30           211180.0   \n",
       "2              None        O: No Injury               34           111144.0   \n",
       "3              None   B: Evident Injury               36           119139.0   \n",
       "4              None        O: No Injury               50           112114.0   \n",
       "\n",
       "  fields_ambulancer fields_excsspdind fields_county  ... fields_num_units  \\\n",
       "0                No                No        Durham  ...                2   \n",
       "1               Yes                No          Pitt  ...                2   \n",
       "2                No                No          Pitt  ...                2   \n",
       "3               Yes                No   Mecklenburg  ...                3   \n",
       "4                No                No   Mecklenburg  ...                2   \n",
       "\n",
       "  fields_rd_surface fields_hit_run fields_drvr_estsp fields_crashalcoh  \\\n",
       "0    Smooth Asphalt             No         11-15 mph                No   \n",
       "1    Smooth Asphalt             No           0-5 mph                No   \n",
       "2    Smooth Asphalt             No         21-25 mph                No   \n",
       "3    Smooth Asphalt             No         46-50 mph                No   \n",
       "4    Smooth Asphalt            Yes         16-20 mph                No   \n",
       "\n",
       "  geometry_type    geometry_coordinates           record_timestamp  \\\n",
       "0         Point   [-78.8785, 36.002743]  2015-04-21T05:55:44-04:00   \n",
       "1         Point  [-77.39265, 35.612984]  2015-04-21T05:55:44-04:00   \n",
       "2         Point  [-77.59074, 35.595676]  2015-04-21T05:55:44-04:00   \n",
       "3         Point   [-80.7728, 35.076767]  2015-04-21T05:55:44-04:00   \n",
       "4         Point   [-80.75713, 35.19999]  2015-04-21T05:55:44-04:00   \n",
       "\n",
       "  fields_bikeage_gr fields_crash_mont  \n",
       "0               NaN               NaN  \n",
       "1             50-59               NaN  \n",
       "2               NaN               NaN  \n",
       "3             16-19               NaN  \n",
       "4               NaN               NaN  \n",
       "\n",
       "[5 rows x 59 columns]"
      ]
     },
     "execution_count": 24,
     "metadata": {},
     "output_type": "execute_result"
    }
   ],
   "source": [
    "df = pd.DataFrame(flatten(d) for d in data)\n",
    "df.head()"
   ]
  },
  {
   "cell_type": "markdown",
   "metadata": {},
   "source": [
    "## Download file if necessary"
   ]
  },
  {
   "cell_type": "code",
   "execution_count": 36,
   "metadata": {},
   "outputs": [],
   "source": [
    "import xmltodict\n",
    "import os\n",
    "\n",
    "if not os.path.exists('./data/reed.xml'):\n",
    "    import requests\n",
    "    resp = requests.get('http://www.cs.washington.edu/research/xmldatasets/data/courses/reed.xml')\n",
    "\n",
    "    with open('./data/reed.xml', 'w') as f:\n",
    "        f.write(resp.text)"
   ]
  },
  {
   "cell_type": "code",
   "execution_count": 37,
   "metadata": {},
   "outputs": [],
   "source": [
    "with open('./data/reed.xml') as f:\n",
    "    xml = f.read()\n",
    "    d = xmltodict.parse(xml)"
   ]
  },
  {
   "cell_type": "code",
   "execution_count": 47,
   "metadata": {},
   "outputs": [
    {
     "data": {
      "text/plain": [
       "odict_keys(['root'])"
      ]
     },
     "execution_count": 47,
     "metadata": {},
     "output_type": "execute_result"
    }
   ],
   "source": [
    "d.keys()"
   ]
  },
  {
   "cell_type": "code",
   "execution_count": 48,
   "metadata": {},
   "outputs": [
    {
     "data": {
      "text/plain": [
       "odict_keys(['course'])"
      ]
     },
     "execution_count": 48,
     "metadata": {},
     "output_type": "execute_result"
    }
   ],
   "source": [
    "d['root'].keys()"
   ]
  },
  {
   "cell_type": "code",
   "execution_count": 49,
   "metadata": {},
   "outputs": [],
   "source": [
    "courses = d['root']['course']"
   ]
  },
  {
   "cell_type": "code",
   "execution_count": 50,
   "metadata": {},
   "outputs": [
    {
     "data": {
      "text/plain": [
       "703"
      ]
     },
     "execution_count": 50,
     "metadata": {},
     "output_type": "execute_result"
    }
   ],
   "source": [
    "len(courses)"
   ]
  },
  {
   "cell_type": "code",
   "execution_count": 52,
   "metadata": {},
   "outputs": [
    {
     "data": {
      "text/html": [
       "<div>\n",
       "<style scoped>\n",
       "    .dataframe tbody tr th:only-of-type {\n",
       "        vertical-align: middle;\n",
       "    }\n",
       "\n",
       "    .dataframe tbody tr th {\n",
       "        vertical-align: top;\n",
       "    }\n",
       "\n",
       "    .dataframe thead th {\n",
       "        text-align: right;\n",
       "    }\n",
       "</style>\n",
       "<table border=\"1\" class=\"dataframe\">\n",
       "  <thead>\n",
       "    <tr style=\"text-align: right;\">\n",
       "      <th></th>\n",
       "      <th>reg_num</th>\n",
       "      <th>subj</th>\n",
       "      <th>crse</th>\n",
       "      <th>sect</th>\n",
       "      <th>title</th>\n",
       "      <th>units</th>\n",
       "      <th>instructor</th>\n",
       "      <th>days</th>\n",
       "      <th>time_start_time</th>\n",
       "      <th>time_end_time</th>\n",
       "      <th>place_building</th>\n",
       "      <th>place_room</th>\n",
       "    </tr>\n",
       "  </thead>\n",
       "  <tbody>\n",
       "    <tr>\n",
       "      <td>0</td>\n",
       "      <td>10577</td>\n",
       "      <td>ANTH</td>\n",
       "      <td>211</td>\n",
       "      <td>F01</td>\n",
       "      <td>Introduction to Anthropology</td>\n",
       "      <td>1.0</td>\n",
       "      <td>Brightman</td>\n",
       "      <td>M-W</td>\n",
       "      <td>03:10PM</td>\n",
       "      <td>04:30</td>\n",
       "      <td>ELIOT</td>\n",
       "      <td>414</td>\n",
       "    </tr>\n",
       "    <tr>\n",
       "      <td>1</td>\n",
       "      <td>20573</td>\n",
       "      <td>ANTH</td>\n",
       "      <td>344</td>\n",
       "      <td>S01</td>\n",
       "      <td>Sex and Gender</td>\n",
       "      <td>1.0</td>\n",
       "      <td>Makley</td>\n",
       "      <td>T-Th</td>\n",
       "      <td>10:30AM</td>\n",
       "      <td>11:50</td>\n",
       "      <td>VOLLUM</td>\n",
       "      <td>120</td>\n",
       "    </tr>\n",
       "    <tr>\n",
       "      <td>2</td>\n",
       "      <td>10624</td>\n",
       "      <td>BIOL</td>\n",
       "      <td>431</td>\n",
       "      <td>F01</td>\n",
       "      <td>Field Biology of Amphibians</td>\n",
       "      <td>0.5</td>\n",
       "      <td>Kaplan</td>\n",
       "      <td>T</td>\n",
       "      <td>06:10PM</td>\n",
       "      <td>08:00</td>\n",
       "      <td>PHYSIC</td>\n",
       "      <td>240A</td>\n",
       "    </tr>\n",
       "    <tr>\n",
       "      <td>3</td>\n",
       "      <td>10626</td>\n",
       "      <td>BIOL</td>\n",
       "      <td>431</td>\n",
       "      <td>F03</td>\n",
       "      <td>Bacterial Pathogenesis</td>\n",
       "      <td>0.5</td>\n",
       "      <td>None</td>\n",
       "      <td>None</td>\n",
       "      <td>None</td>\n",
       "      <td>None</td>\n",
       "      <td>None</td>\n",
       "      <td>Mellies         RESCHEDULED TO OTHER SEMESTER</td>\n",
       "    </tr>\n",
       "    <tr>\n",
       "      <td>4</td>\n",
       "      <td>20626</td>\n",
       "      <td>BIOL</td>\n",
       "      <td>431</td>\n",
       "      <td>S04</td>\n",
       "      <td>Seminar in Biology</td>\n",
       "      <td>0.5</td>\n",
       "      <td>Yezerinac</td>\n",
       "      <td>Th</td>\n",
       "      <td>06:10PM</td>\n",
       "      <td>08:00</td>\n",
       "      <td>BIOL</td>\n",
       "      <td>200A</td>\n",
       "    </tr>\n",
       "  </tbody>\n",
       "</table>\n",
       "</div>"
      ],
      "text/plain": [
       "  reg_num  subj crse sect                         title units instructor  \\\n",
       "0   10577  ANTH  211  F01  Introduction to Anthropology   1.0  Brightman   \n",
       "1   20573  ANTH  344  S01                Sex and Gender   1.0     Makley   \n",
       "2   10624  BIOL  431  F01   Field Biology of Amphibians   0.5     Kaplan   \n",
       "3   10626  BIOL  431  F03        Bacterial Pathogenesis   0.5       None   \n",
       "4   20626  BIOL  431  S04            Seminar in Biology   0.5  Yezerinac   \n",
       "\n",
       "   days time_start_time time_end_time place_building  \\\n",
       "0   M-W         03:10PM         04:30          ELIOT   \n",
       "1  T-Th         10:30AM         11:50         VOLLUM   \n",
       "2     T         06:10PM         08:00         PHYSIC   \n",
       "3  None            None          None           None   \n",
       "4    Th         06:10PM         08:00           BIOL   \n",
       "\n",
       "                                      place_room  \n",
       "0                                            414  \n",
       "1                                            120  \n",
       "2                                           240A  \n",
       "3  Mellies         RESCHEDULED TO OTHER SEMESTER  \n",
       "4                                           200A  "
      ]
     },
     "execution_count": 52,
     "metadata": {},
     "output_type": "execute_result"
    }
   ],
   "source": [
    "df = pd.DataFrame(flatten(d) for d in courses)\n",
    "df.head()"
   ]
  },
  {
   "cell_type": "code",
   "execution_count": null,
   "metadata": {},
   "outputs": [],
   "source": []
  }
 ],
 "metadata": {
  "kernelspec": {
   "display_name": "Python 3",
   "language": "python",
   "name": "python3"
  },
  "language_info": {
   "codemirror_mode": {
    "name": "ipython",
    "version": 3
   },
   "file_extension": ".py",
   "mimetype": "text/x-python",
   "name": "python",
   "nbconvert_exporter": "python",
   "pygments_lexer": "ipython3",
   "version": "3.6.7"
  }
 },
 "nbformat": 4,
 "nbformat_minor": 4
}
