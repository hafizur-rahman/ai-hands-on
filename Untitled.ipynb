{
 "cells": [
  {
   "cell_type": "code",
   "execution_count": 2,
   "metadata": {},
   "outputs": [
    {
     "name": "stderr",
     "output_type": "stream",
     "text": [
      "Installing package into ‘/home/bibagimon/R/x86_64-pc-linux-gnu-library/3.2’\n",
      "(as ‘lib’ is unspecified)\n",
      "\n"
     ]
    },
    {
     "name": "stdout",
     "output_type": "stream",
     "text": [
      "\n",
      "The downloaded source packages are in\n",
      "\t‘/tmp/RtmpuJIztr/downloaded_packages’\n"
     ]
    }
   ],
   "source": [
    "install.packages(\"astsa\")"
   ]
  },
  {
   "cell_type": "code",
   "execution_count": 7,
   "metadata": {},
   "outputs": [
    {
     "name": "stderr",
     "output_type": "stream",
     "text": [
      "Loading required package: astsa\n",
      "\n"
     ]
    }
   ],
   "source": [
    "require(astsa)"
   ]
  },
  {
   "cell_type": "code",
   "execution_count": 8,
   "metadata": {},
   "outputs": [
    {
     "data": {
      "text/html": [
       "\n",
       "<table width=\"100%\" summary=\"page for jj {astsa}\"><tr><td>jj {astsa}</td><td style=\"text-align: right;\">R Documentation</td></tr></table>\n",
       "\n",
       "<h2>Johnson and Johnson Quarterly Earnings Per Share\n",
       "\n",
       "</h2>\n",
       "\n",
       "<h3>Description</h3>\n",
       "\n",
       "<p>Johnson and Johnson quarterly earnings per share, 84 quarters (21 years) measured from the first quarter of 1960 to the last quarter of 1980.\n",
       "\n",
       "</p>\n",
       "\n",
       "\n",
       "<h3>Format</h3>\n",
       "\n",
       "<p>The format is:\n",
       "Time-Series [1:84] from 1960 to 1981: 0.71 0.63 0.85 0.44 0.61 0.69 0.92 0.55 0.72 0.77 ...\n",
       "</p>\n",
       "\n",
       "\n",
       "<h3>Details</h3>\n",
       "\n",
       "<p>This data set is also included with the R distribution as <code>JohnsonJohnson</code>\n",
       "\n",
       "</p>\n",
       "\n",
       "\n",
       "<h3>References</h3>\n",
       "\n",
       "<p><a href=\"http://www.stat.pitt.edu/stoffer/tsa4/\">http://www.stat.pitt.edu/stoffer/tsa4/</a> and <a href=\"http://www.stat.pitt.edu/stoffer/tsda/\">http://www.stat.pitt.edu/stoffer/tsda/</a> \n",
       "\n",
       "</p>\n",
       "\n",
       "<hr /><div style=\"text-align: center;\">[Package <em>astsa</em> version 1.9 ]</div>"
      ],
      "text/latex": [
       "\\inputencoding{utf8}\n",
       "\\HeaderA{jj}{Johnson and Johnson Quarterly Earnings Per Share}{jj}\n",
       "\\keyword{datasets}{jj}\n",
       "%\n",
       "\\begin{Description}\\relax\n",
       "Johnson and Johnson quarterly earnings per share, 84 quarters (21 years) measured from the first quarter of 1960 to the last quarter of 1980.\n",
       "\n",
       "\\end{Description}\n",
       "%\n",
       "\\begin{Format}\n",
       "The format is:\n",
       "Time-Series [1:84] from 1960 to 1981: 0.71 0.63 0.85 0.44 0.61 0.69 0.92 0.55 0.72 0.77 ...\n",
       "\\end{Format}\n",
       "%\n",
       "\\begin{Details}\\relax\n",
       "This data set is also included with the R distribution as \\code{JohnsonJohnson}\n",
       "\n",
       "\\end{Details}\n",
       "%\n",
       "\\begin{References}\\relax\n",
       "\\url{http://www.stat.pitt.edu/stoffer/tsa4/} and \\url{http://www.stat.pitt.edu/stoffer/tsda/} \n",
       "\n",
       "\\end{References}"
      ],
      "text/plain": [
       "jj                    package:astsa                    R Documentation\n",
       "\n",
       "_\bJ_\bo_\bh_\bn_\bs_\bo_\bn _\ba_\bn_\bd _\bJ_\bo_\bh_\bn_\bs_\bo_\bn _\bQ_\bu_\ba_\br_\bt_\be_\br_\bl_\by _\bE_\ba_\br_\bn_\bi_\bn_\bg_\bs _\bP_\be_\br _\bS_\bh_\ba_\br_\be\n",
       "\n",
       "_\bD_\be_\bs_\bc_\br_\bi_\bp_\bt_\bi_\bo_\bn:\n",
       "\n",
       "     Johnson and Johnson quarterly earnings per share, 84 quarters (21\n",
       "     years) measured from the first quarter of 1960 to the last quarter\n",
       "     of 1980.\n",
       "\n",
       "_\bF_\bo_\br_\bm_\ba_\bt:\n",
       "\n",
       "     The format is: Time-Series [1:84] from 1960 to 1981: 0.71 0.63\n",
       "     0.85 0.44 0.61 0.69 0.92 0.55 0.72 0.77 ...\n",
       "\n",
       "_\bD_\be_\bt_\ba_\bi_\bl_\bs:\n",
       "\n",
       "     This data set is also included with the R distribution as\n",
       "     ‘JohnsonJohnson’\n",
       "\n",
       "_\bR_\be_\bf_\be_\br_\be_\bn_\bc_\be_\bs:\n",
       "\n",
       "     <URL: http://www.stat.pitt.edu/stoffer/tsa4/> and <URL:\n",
       "     http://www.stat.pitt.edu/stoffer/tsda/>\n"
      ]
     },
     "metadata": {},
     "output_type": "display_data"
    }
   ],
   "source": [
    "help(jj)"
   ]
  }
 ],
 "metadata": {
  "kernelspec": {
   "display_name": "Python 3",
   "language": "python",
   "name": "python3"
  },
  "language_info": {
   "codemirror_mode": {
    "name": "ipython",
    "version": 3
   },
   "file_extension": ".py",
   "mimetype": "text/x-python",
   "name": "python",
   "nbconvert_exporter": "python",
   "pygments_lexer": "ipython3",
   "version": "3.6.7"
  }
 },
 "nbformat": 4,
 "nbformat_minor": 4
}
