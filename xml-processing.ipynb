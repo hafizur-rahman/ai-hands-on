{
 "cells": [
  {
   "cell_type": "code",
   "execution_count": 1,
   "metadata": {},
   "outputs": [],
   "source": [
    "import xmltodict\n",
    "\n",
    "with open('./sample.xml') as fd:\n",
    "    doc = xmltodict.parse(fd.read())"
   ]
  },
  {
   "cell_type": "code",
   "execution_count": 10,
   "metadata": {},
   "outputs": [
    {
     "data": {
      "text/plain": [
       "OrderedDict([('zAppointments',\n",
       "              OrderedDict([('@reminder', '15'),\n",
       "                           ('appointment',\n",
       "                            [OrderedDict([('begin', '1181251680'),\n",
       "                                          ('uid', '040000008200E000'),\n",
       "                                          ('alarmTime', '1181572063'),\n",
       "                                          ('state', None),\n",
       "                                          ('location', None),\n",
       "                                          ('duration', '1800'),\n",
       "                                          ('subject', 'Bring pizza home')]),\n",
       "                             OrderedDict([('begin', '1234360800'),\n",
       "                                          ('duration', '1800'),\n",
       "                                          ('subject',\n",
       "                                           'Check MS Office website for updates'),\n",
       "                                          ('location', None),\n",
       "                                          ('uid',\n",
       "                                           '604f4792-eb89-478b-a14f-dd34d3cc6c21-1234360800'),\n",
       "                                          ('state', 'dismissed')])])]))])"
      ]
     },
     "execution_count": 10,
     "metadata": {},
     "output_type": "execute_result"
    }
   ],
   "source": [
    "doc"
   ]
  },
  {
   "cell_type": "code",
   "execution_count": 7,
   "metadata": {},
   "outputs": [
    {
     "name": "stdout",
     "output_type": "stream",
     "text": [
      "OrderedDict([('begin', '1181251680'), ('uid', '040000008200E000'), ('alarmTime', '1181572063'), ('state', None), ('location', None), ('duration', '1800'), ('subject', 'Bring pizza home')])\n",
      "OrderedDict([('begin', '1234360800'), ('duration', '1800'), ('subject', 'Check MS Office website for updates'), ('location', None), ('uid', '604f4792-eb89-478b-a14f-dd34d3cc6c21-1234360800'), ('state', 'dismissed')])\n"
     ]
    }
   ],
   "source": [
    "for a in doc['zAppointments']['appointment']:\n",
    "    print(a)"
   ]
  },
  {
   "cell_type": "code",
   "execution_count": 8,
   "metadata": {},
   "outputs": [],
   "source": [
    "import pandas as pd\n",
    "\n",
    "df = pd.DataFrame(doc['zAppointments']['appointment'])"
   ]
  },
  {
   "cell_type": "code",
   "execution_count": 9,
   "metadata": {},
   "outputs": [
    {
     "data": {
      "text/html": [
       "<div>\n",
       "<style scoped>\n",
       "    .dataframe tbody tr th:only-of-type {\n",
       "        vertical-align: middle;\n",
       "    }\n",
       "\n",
       "    .dataframe tbody tr th {\n",
       "        vertical-align: top;\n",
       "    }\n",
       "\n",
       "    .dataframe thead th {\n",
       "        text-align: right;\n",
       "    }\n",
       "</style>\n",
       "<table border=\"1\" class=\"dataframe\">\n",
       "  <thead>\n",
       "    <tr style=\"text-align: right;\">\n",
       "      <th></th>\n",
       "      <th>begin</th>\n",
       "      <th>uid</th>\n",
       "      <th>alarmTime</th>\n",
       "      <th>state</th>\n",
       "      <th>location</th>\n",
       "      <th>duration</th>\n",
       "      <th>subject</th>\n",
       "    </tr>\n",
       "  </thead>\n",
       "  <tbody>\n",
       "    <tr>\n",
       "      <td>0</td>\n",
       "      <td>1181251680</td>\n",
       "      <td>040000008200E000</td>\n",
       "      <td>1181572063</td>\n",
       "      <td>None</td>\n",
       "      <td>None</td>\n",
       "      <td>1800</td>\n",
       "      <td>Bring pizza home</td>\n",
       "    </tr>\n",
       "    <tr>\n",
       "      <td>1</td>\n",
       "      <td>1234360800</td>\n",
       "      <td>604f4792-eb89-478b-a14f-dd34d3cc6c21-1234360800</td>\n",
       "      <td>NaN</td>\n",
       "      <td>dismissed</td>\n",
       "      <td>None</td>\n",
       "      <td>1800</td>\n",
       "      <td>Check MS Office website for updates</td>\n",
       "    </tr>\n",
       "  </tbody>\n",
       "</table>\n",
       "</div>"
      ],
      "text/plain": [
       "        begin                                              uid   alarmTime  \\\n",
       "0  1181251680                                 040000008200E000  1181572063   \n",
       "1  1234360800  604f4792-eb89-478b-a14f-dd34d3cc6c21-1234360800         NaN   \n",
       "\n",
       "       state location duration                              subject  \n",
       "0       None     None     1800                     Bring pizza home  \n",
       "1  dismissed     None     1800  Check MS Office website for updates  "
      ]
     },
     "execution_count": 9,
     "metadata": {},
     "output_type": "execute_result"
    }
   ],
   "source": [
    "df"
   ]
  }
 ],
 "metadata": {
  "kernelspec": {
   "display_name": "Python 3",
   "language": "python",
   "name": "python3"
  },
  "language_info": {
   "codemirror_mode": {
    "name": "ipython",
    "version": 3
   },
   "file_extension": ".py",
   "mimetype": "text/x-python",
   "name": "python",
   "nbconvert_exporter": "python",
   "pygments_lexer": "ipython3",
   "version": "3.6.7"
  }
 },
 "nbformat": 4,
 "nbformat_minor": 4
}
